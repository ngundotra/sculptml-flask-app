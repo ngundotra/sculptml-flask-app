{
 "cells": [
  {
   "cell_type": "code",
   "execution_count": 33,
   "metadata": {},
   "outputs": [],
   "source": [
    "import numpy as np\n",
    "from tensorflow import keras\n",
    "from keras.backend import clear_session\n",
    "from main import make_model, get_json\n",
    "from modelgraph import ModelGraph"
   ]
  },
  {
   "cell_type": "code",
   "execution_count": 57,
   "metadata": {},
   "outputs": [],
   "source": [
    "clear_session()\n",
    "model = make_model(get_json(\"model_spec.json\"))"
   ]
  },
  {
   "cell_type": "code",
   "execution_count": 58,
   "metadata": {},
   "outputs": [
    {
     "name": "stdout",
     "output_type": "stream",
     "text": [
      "Tensor(\"input_1:0\", shape=(?, 6, 6, 6), dtype=float32)\n"
     ]
    }
   ],
   "source": [
    "print(model.model.input)\n",
    "\n",
    "random_arr = np.ones((1,6,6,6))"
   ]
  },
  {
   "cell_type": "code",
   "execution_count": 59,
   "metadata": {},
   "outputs": [
    {
     "data": {
      "text/plain": [
       "array([[[[0.        , 0.39163637, 0.25177032, ..., 0.7969601 ,\n",
       "          0.05306958, 0.34783566],\n",
       "         [0.        , 0.39163637, 0.25177032, ..., 0.7969601 ,\n",
       "          0.05306958, 0.34783566],\n",
       "         [0.        , 0.39163637, 0.25177032, ..., 0.7969601 ,\n",
       "          0.05306958, 0.34783566],\n",
       "         [0.        , 0.39163637, 0.25177032, ..., 0.7969601 ,\n",
       "          0.05306958, 0.34783566],\n",
       "         [0.        , 0.39163637, 0.25177032, ..., 0.7969601 ,\n",
       "          0.05306958, 0.34783566],\n",
       "         [0.        , 0.39163637, 0.25177032, ..., 0.7969601 ,\n",
       "          0.05306958, 0.34783566]],\n",
       "\n",
       "        [[0.        , 0.39163637, 0.25177032, ..., 0.7969601 ,\n",
       "          0.05306958, 0.34783566],\n",
       "         [0.        , 0.39163637, 0.25177032, ..., 0.7969601 ,\n",
       "          0.05306958, 0.34783566],\n",
       "         [0.        , 0.39163637, 0.25177032, ..., 0.7969601 ,\n",
       "          0.05306958, 0.34783566],\n",
       "         [0.        , 0.39163637, 0.25177032, ..., 0.7969601 ,\n",
       "          0.05306958, 0.34783566],\n",
       "         [0.        , 0.39163637, 0.25177032, ..., 0.7969601 ,\n",
       "          0.05306958, 0.34783566],\n",
       "         [0.        , 0.39163637, 0.25177032, ..., 0.7969601 ,\n",
       "          0.05306958, 0.34783566]],\n",
       "\n",
       "        [[0.        , 0.39163637, 0.25177032, ..., 0.7969601 ,\n",
       "          0.05306958, 0.34783566],\n",
       "         [0.        , 0.39163637, 0.25177032, ..., 0.7969601 ,\n",
       "          0.05306958, 0.34783566],\n",
       "         [0.        , 0.39163637, 0.25177032, ..., 0.7969601 ,\n",
       "          0.05306958, 0.34783566],\n",
       "         [0.        , 0.39163637, 0.25177032, ..., 0.7969601 ,\n",
       "          0.05306958, 0.34783566],\n",
       "         [0.        , 0.39163637, 0.25177032, ..., 0.7969601 ,\n",
       "          0.05306958, 0.34783566],\n",
       "         [0.        , 0.39163637, 0.25177032, ..., 0.7969601 ,\n",
       "          0.05306958, 0.34783566]],\n",
       "\n",
       "        [[0.        , 0.39163637, 0.25177032, ..., 0.7969601 ,\n",
       "          0.05306958, 0.34783566],\n",
       "         [0.        , 0.39163637, 0.25177032, ..., 0.7969601 ,\n",
       "          0.05306958, 0.34783566],\n",
       "         [0.        , 0.39163637, 0.25177032, ..., 0.7969601 ,\n",
       "          0.05306958, 0.34783566],\n",
       "         [0.        , 0.39163637, 0.25177032, ..., 0.7969601 ,\n",
       "          0.05306958, 0.34783566],\n",
       "         [0.        , 0.39163637, 0.25177032, ..., 0.7969601 ,\n",
       "          0.05306958, 0.34783566],\n",
       "         [0.        , 0.39163637, 0.25177032, ..., 0.7969601 ,\n",
       "          0.05306958, 0.34783566]],\n",
       "\n",
       "        [[0.        , 0.39163637, 0.25177032, ..., 0.7969601 ,\n",
       "          0.05306958, 0.34783566],\n",
       "         [0.        , 0.39163637, 0.25177032, ..., 0.7969601 ,\n",
       "          0.05306958, 0.34783566],\n",
       "         [0.        , 0.39163637, 0.25177032, ..., 0.7969601 ,\n",
       "          0.05306958, 0.34783566],\n",
       "         [0.        , 0.39163637, 0.25177032, ..., 0.7969601 ,\n",
       "          0.05306958, 0.34783566],\n",
       "         [0.        , 0.39163637, 0.25177032, ..., 0.7969601 ,\n",
       "          0.05306958, 0.34783566],\n",
       "         [0.        , 0.39163637, 0.25177032, ..., 0.7969601 ,\n",
       "          0.05306958, 0.34783566]],\n",
       "\n",
       "        [[0.        , 0.39163637, 0.25177032, ..., 0.7969601 ,\n",
       "          0.05306958, 0.34783566],\n",
       "         [0.        , 0.39163637, 0.25177032, ..., 0.7969601 ,\n",
       "          0.05306958, 0.34783566],\n",
       "         [0.        , 0.39163637, 0.25177032, ..., 0.7969601 ,\n",
       "          0.05306958, 0.34783566],\n",
       "         [0.        , 0.39163637, 0.25177032, ..., 0.7969601 ,\n",
       "          0.05306958, 0.34783566],\n",
       "         [0.        , 0.39163637, 0.25177032, ..., 0.7969601 ,\n",
       "          0.05306958, 0.34783566],\n",
       "         [0.        , 0.39163637, 0.25177032, ..., 0.7969601 ,\n",
       "          0.05306958, 0.34783566]]]], dtype=float32)"
      ]
     },
     "execution_count": 59,
     "metadata": {},
     "output_type": "execute_result"
    }
   ],
   "source": [
    "predict_arr = model.model.predict(random_arr)\n",
    "predict_arr"
   ]
  },
  {
   "cell_type": "code",
   "execution_count": 60,
   "metadata": {},
   "outputs": [
    {
     "data": {
      "text/plain": [
       "(1, 6, 6, 128)"
      ]
     },
     "execution_count": 60,
     "metadata": {},
     "output_type": "execute_result"
    }
   ],
   "source": [
    "predict_arr.shape"
   ]
  },
  {
   "cell_type": "code",
   "execution_count": 61,
   "metadata": {},
   "outputs": [],
   "source": [
    "predict_arr = predict_arr[0]\n"
   ]
  },
  {
   "cell_type": "code",
   "execution_count": 63,
   "metadata": {},
   "outputs": [
    {
     "data": {
      "text/plain": [
       "True"
      ]
     },
     "execution_count": 63,
     "metadata": {},
     "output_type": "execute_result"
    }
   ],
   "source": [
    "(predict_arr[0] == predict_arr[3]).all()"
   ]
  },
  {
   "cell_type": "code",
   "execution_count": 47,
   "metadata": {},
   "outputs": [
    {
     "name": "stdout",
     "output_type": "stream",
     "text": [
      "_________________________________________________________________\n",
      "Layer (type)                 Output Shape              Param #   \n",
      "=================================================================\n",
      "input_1 (InputLayer)         (None, 6, 6, 6)           0         \n",
      "_________________________________________________________________\n",
      "dense_1 (Dense)              (None, 6, 6, 128)         896       \n",
      "=================================================================\n",
      "Total params: 896\n",
      "Trainable params: 896\n",
      "Non-trainable params: 0\n",
      "_________________________________________________________________\n"
     ]
    }
   ],
   "source": [
    "model.model.summary()"
   ]
  },
  {
   "cell_type": "code",
   "execution_count": 44,
   "metadata": {},
   "outputs": [
    {
     "data": {
      "text/plain": [
       "'mse'"
      ]
     },
     "execution_count": 44,
     "metadata": {},
     "output_type": "execute_result"
    }
   ],
   "source": [
    "model.model.loss"
   ]
  },
  {
   "cell_type": "code",
   "execution_count": 25,
   "metadata": {},
   "outputs": [
    {
     "data": {
      "text/plain": [
       "['__call__',\n",
       " '__class__',\n",
       " '__delattr__',\n",
       " '__dict__',\n",
       " '__dir__',\n",
       " '__doc__',\n",
       " '__eq__',\n",
       " '__format__',\n",
       " '__ge__',\n",
       " '__getattribute__',\n",
       " '__gt__',\n",
       " '__hash__',\n",
       " '__init__',\n",
       " '__init_subclass__',\n",
       " '__le__',\n",
       " '__lt__',\n",
       " '__module__',\n",
       " '__ne__',\n",
       " '__new__',\n",
       " '__reduce__',\n",
       " '__reduce_ex__',\n",
       " '__repr__',\n",
       " '__setattr__',\n",
       " '__sizeof__',\n",
       " '__str__',\n",
       " '__subclasshook__',\n",
       " '__weakref__',\n",
       " '_add_inbound_node',\n",
       " '_base_init',\n",
       " '_built',\n",
       " '_check_trainable_weights_consistency',\n",
       " '_collected_trainable_weights',\n",
       " '_compute_previous_mask',\n",
       " '_expects_training_arg',\n",
       " '_feed_input_names',\n",
       " '_feed_input_shapes',\n",
       " '_feed_inputs',\n",
       " '_feed_loss_fns',\n",
       " '_feed_output_names',\n",
       " '_feed_output_shapes',\n",
       " '_feed_outputs',\n",
       " '_feed_sample_weight_modes',\n",
       " '_feed_sample_weights',\n",
       " '_feed_targets',\n",
       " '_function_kwargs',\n",
       " '_get_node_attribute_at_index',\n",
       " '_inbound_nodes',\n",
       " '_init_graph_network',\n",
       " '_init_subclassed_network',\n",
       " '_initial_weights',\n",
       " '_input_coordinates',\n",
       " '_input_layers',\n",
       " '_is_compiled',\n",
       " '_is_graph_network',\n",
       " '_layers',\n",
       " '_layers_by_depth',\n",
       " '_losses',\n",
       " '_make_predict_function',\n",
       " '_make_test_function',\n",
       " '_make_train_function',\n",
       " '_network_nodes',\n",
       " '_node_key',\n",
       " '_nodes_by_depth',\n",
       " '_outbound_nodes',\n",
       " '_output_coordinates',\n",
       " '_output_layers',\n",
       " '_output_mask_cache',\n",
       " '_output_shape_cache',\n",
       " '_output_tensor_cache',\n",
       " '_per_input_losses',\n",
       " '_per_input_updates',\n",
       " '_set_inputs',\n",
       " '_standardize_user_data',\n",
       " '_updated_config',\n",
       " '_updates',\n",
       " '_uses_dynamic_learning_phase',\n",
       " '_uses_inputs_arg',\n",
       " 'add_loss',\n",
       " 'add_update',\n",
       " 'add_weight',\n",
       " 'assert_input_compatibility',\n",
       " 'build',\n",
       " 'built',\n",
       " 'call',\n",
       " 'compile',\n",
       " 'compute_mask',\n",
       " 'compute_output_shape',\n",
       " 'count_params',\n",
       " 'evaluate',\n",
       " 'evaluate_generator',\n",
       " 'fit',\n",
       " 'fit_generator',\n",
       " 'from_config',\n",
       " 'get_config',\n",
       " 'get_input_at',\n",
       " 'get_input_mask_at',\n",
       " 'get_input_shape_at',\n",
       " 'get_layer',\n",
       " 'get_losses_for',\n",
       " 'get_output_at',\n",
       " 'get_output_mask_at',\n",
       " 'get_output_shape_at',\n",
       " 'get_updates_for',\n",
       " 'get_weights',\n",
       " 'input',\n",
       " 'input_mask',\n",
       " 'input_names',\n",
       " 'input_shape',\n",
       " 'input_spec',\n",
       " 'inputs',\n",
       " 'layers',\n",
       " 'load_weights',\n",
       " 'loss',\n",
       " 'loss_functions',\n",
       " 'loss_weights',\n",
       " 'losses',\n",
       " 'metrics',\n",
       " 'metrics_names',\n",
       " 'metrics_tensors',\n",
       " 'metrics_updates',\n",
       " 'name',\n",
       " 'non_trainable_weights',\n",
       " 'optimizer',\n",
       " 'output',\n",
       " 'output_mask',\n",
       " 'output_names',\n",
       " 'output_shape',\n",
       " 'outputs',\n",
       " 'predict',\n",
       " 'predict_function',\n",
       " 'predict_generator',\n",
       " 'predict_on_batch',\n",
       " 'reset_states',\n",
       " 'run_internal_graph',\n",
       " 'sample_weight_mode',\n",
       " 'sample_weight_modes',\n",
       " 'sample_weights',\n",
       " 'save',\n",
       " 'save_weights',\n",
       " 'set_weights',\n",
       " 'state_updates',\n",
       " 'stateful',\n",
       " 'stateful_metric_functions',\n",
       " 'stateful_metric_names',\n",
       " 'summary',\n",
       " 'supports_masking',\n",
       " 'targets',\n",
       " 'test_function',\n",
       " 'test_on_batch',\n",
       " 'to_json',\n",
       " 'to_yaml',\n",
       " 'total_loss',\n",
       " 'train_function',\n",
       " 'train_on_batch',\n",
       " 'trainable',\n",
       " 'trainable_weights',\n",
       " 'updates',\n",
       " 'uses_learning_phase',\n",
       " 'weighted_metrics',\n",
       " 'weights']"
      ]
     },
     "execution_count": 25,
     "metadata": {},
     "output_type": "execute_result"
    }
   ],
   "source": []
  },
  {
   "cell_type": "code",
   "execution_count": null,
   "metadata": {
    "collapsed": true
   },
   "outputs": [],
   "source": []
  }
 ],
 "metadata": {
  "kernelspec": {
   "display_name": "Python 3",
   "language": "python",
   "name": "python3"
  },
  "language_info": {
   "codemirror_mode": {
    "name": "ipython",
    "version": 3
   },
   "file_extension": ".py",
   "mimetype": "text/x-python",
   "name": "python",
   "nbconvert_exporter": "python",
   "pygments_lexer": "ipython3",
   "version": "3.6.3"
  }
 },
 "nbformat": 4,
 "nbformat_minor": 2
}
